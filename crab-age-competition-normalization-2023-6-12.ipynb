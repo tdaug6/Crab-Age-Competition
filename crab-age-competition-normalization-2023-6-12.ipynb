{
 "cells": [
  {
   "cell_type": "markdown",
   "id": "779ab25e",
   "metadata": {
    "papermill": {
     "duration": 0.01683,
     "end_time": "2023-06-20T20:27:29.344712",
     "exception": false,
     "start_time": "2023-06-20T20:27:29.327882",
     "status": "completed"
    },
    "tags": []
   },
   "source": [
    "# Crab Age Competition Notebook\n",
    "\n",
    "*Created by Taylor Daugherty*\n",
    "\n",
    "*Created: 6/11/2023    Last updated: 6/12/2023*\n",
    "\n",
    "This is my solution for the Crab Age Competition. \n",
    "\n",
    "In this notebook, I experimented with different levels of normalizing the dataset. This includes not normalizing any data, normalizing only the features, and normalizing the features and the target.\n",
    "\n",
    "## Table of Contents\n",
    "\n",
    "1. Import modules\n",
    "\n",
    "2. Create universal information\n",
    "\n",
    "3. No normalization\n",
    "\n",
    "4. Normalize features\n",
    "\n",
    "5. Normalize all data\n",
    "\n",
    "6. Evaluate methods\n",
    "\n",
    "7. Submission\n",
    "\n",
    "8. Results"
   ]
  },
  {
   "cell_type": "markdown",
   "id": "ac0ec5ec",
   "metadata": {
    "papermill": {
     "duration": 0.01491,
     "end_time": "2023-06-20T20:27:29.374569",
     "exception": false,
     "start_time": "2023-06-20T20:27:29.359659",
     "status": "completed"
    },
    "tags": []
   },
   "source": [
    "## Import modules\n",
    "\n",
    "In this notebook the following imports are needed to build and evaluate a linear regression model\n",
    "\n",
    "1. `Numpy`: used for matrix operations and manipulation\n",
    "\n",
    "2. `Pandas`: used for dataframe creation and manipulation\n",
    "\n",
    "3. `train_test_split`: used to split the data to evaluate model's performance on existing data\n",
    "\n",
    "4. `LinearRegression`: used to build, fit, and make predictions using a linear regression model\n",
    "\n",
    "5. `mean_absolute_error`: used to evaluate the model's performance on the validation data"
   ]
  },
  {
   "cell_type": "code",
   "execution_count": 1,
   "id": "9e94984b",
   "metadata": {
    "execution": {
     "iopub.execute_input": "2023-06-20T20:27:29.404197Z",
     "iopub.status.busy": "2023-06-20T20:27:29.403524Z",
     "iopub.status.idle": "2023-06-20T20:27:31.106810Z",
     "shell.execute_reply": "2023-06-20T20:27:31.105318Z"
    },
    "papermill": {
     "duration": 1.720641,
     "end_time": "2023-06-20T20:27:31.109122",
     "exception": false,
     "start_time": "2023-06-20T20:27:29.388481",
     "status": "completed"
    },
    "tags": []
   },
   "outputs": [],
   "source": [
    "import numpy as np\n",
    "import pandas as pd\n",
    "from sklearn.model_selection import train_test_split\n",
    "from sklearn.linear_model import LinearRegression\n",
    "from sklearn.metrics import mean_absolute_error"
   ]
  },
  {
   "cell_type": "markdown",
   "id": "d3630505",
   "metadata": {
    "papermill": {
     "duration": 0.013362,
     "end_time": "2023-06-20T20:27:31.136060",
     "exception": false,
     "start_time": "2023-06-20T20:27:31.122698",
     "status": "completed"
    },
    "tags": []
   },
   "source": [
    "## Create universal information\n",
    "\n",
    "The information in the following section will pertain to multiple regression methods. \n",
    "\n",
    "These have been added here for easier access and readability"
   ]
  },
  {
   "cell_type": "markdown",
   "id": "dc94313c",
   "metadata": {
    "papermill": {
     "duration": 0.013301,
     "end_time": "2023-06-20T20:27:31.162912",
     "exception": false,
     "start_time": "2023-06-20T20:27:31.149611",
     "status": "completed"
    },
    "tags": []
   },
   "source": [
    "Set the file paths to a variable so all methods can access the training and testing sets"
   ]
  },
  {
   "cell_type": "code",
   "execution_count": 2,
   "id": "490df025",
   "metadata": {
    "execution": {
     "iopub.execute_input": "2023-06-20T20:27:31.192064Z",
     "iopub.status.busy": "2023-06-20T20:27:31.191606Z",
     "iopub.status.idle": "2023-06-20T20:27:31.195715Z",
     "shell.execute_reply": "2023-06-20T20:27:31.194887Z"
    },
    "papermill": {
     "duration": 0.021174,
     "end_time": "2023-06-20T20:27:31.197542",
     "exception": false,
     "start_time": "2023-06-20T20:27:31.176368",
     "status": "completed"
    },
    "tags": []
   },
   "outputs": [],
   "source": [
    "train_filepath = '/kaggle/input/playground-series-s3e16/train.csv'\n",
    "test_filepath = '/kaggle/input/playground-series-s3e16/test.csv'"
   ]
  },
  {
   "cell_type": "markdown",
   "id": "58b6147d",
   "metadata": {
    "papermill": {
     "duration": 0.012699,
     "end_time": "2023-06-20T20:27:31.223569",
     "exception": false,
     "start_time": "2023-06-20T20:27:31.210870",
     "status": "completed"
    },
    "tags": []
   },
   "source": [
    "### Normalization\n",
    "\n",
    "These functions will help normalize and undo normalizing for the age values"
   ]
  },
  {
   "cell_type": "markdown",
   "id": "a0ee07a0",
   "metadata": {
    "papermill": {
     "duration": 0.01333,
     "end_time": "2023-06-20T20:27:31.250093",
     "exception": false,
     "start_time": "2023-06-20T20:27:31.236763",
     "status": "completed"
    },
    "tags": []
   },
   "source": [
    "**Normalize** will normalize an entire feature "
   ]
  },
  {
   "cell_type": "code",
   "execution_count": 3,
   "id": "f76b560a",
   "metadata": {
    "execution": {
     "iopub.execute_input": "2023-06-20T20:27:31.278483Z",
     "iopub.status.busy": "2023-06-20T20:27:31.278134Z",
     "iopub.status.idle": "2023-06-20T20:27:31.283404Z",
     "shell.execute_reply": "2023-06-20T20:27:31.282231Z"
    },
    "papermill": {
     "duration": 0.021651,
     "end_time": "2023-06-20T20:27:31.285191",
     "exception": false,
     "start_time": "2023-06-20T20:27:31.263540",
     "status": "completed"
    },
    "tags": []
   },
   "outputs": [],
   "source": [
    "def normalize(feature):\n",
    "    '''\n",
    "    This function normalizes a Series\n",
    "    \n",
    "    Input: A feature of type Series\n",
    "    \n",
    "    Output: The normalized feature of type Series\n",
    "    '''\n",
    "    return (feature - feature.mean())/feature.std()"
   ]
  },
  {
   "cell_type": "markdown",
   "id": "a4a0eb05",
   "metadata": {
    "papermill": {
     "duration": 0.012915,
     "end_time": "2023-06-20T20:27:31.311390",
     "exception": false,
     "start_time": "2023-06-20T20:27:31.298475",
     "status": "completed"
    },
    "tags": []
   },
   "source": [
    "**Normalize_features** will normalize all features in a given dataframe"
   ]
  },
  {
   "cell_type": "code",
   "execution_count": 4,
   "id": "a624c197",
   "metadata": {
    "execution": {
     "iopub.execute_input": "2023-06-20T20:27:31.340291Z",
     "iopub.status.busy": "2023-06-20T20:27:31.339899Z",
     "iopub.status.idle": "2023-06-20T20:27:31.344280Z",
     "shell.execute_reply": "2023-06-20T20:27:31.343501Z"
    },
    "papermill": {
     "duration": 0.021677,
     "end_time": "2023-06-20T20:27:31.346398",
     "exception": false,
     "start_time": "2023-06-20T20:27:31.324721",
     "status": "completed"
    },
    "tags": []
   },
   "outputs": [],
   "source": [
    "def normalize_features(df):\n",
    "    '''\n",
    "    This function normalizes all features in a dataframe\n",
    "    \n",
    "    Input: A pandas dataframe\n",
    "    \n",
    "    Output: The normalized dataframe\n",
    "    '''\n",
    "    for column in df.columns:\n",
    "        df[column] = normalize(df[column])\n",
    "    return df"
   ]
  },
  {
   "cell_type": "markdown",
   "id": "0b9f8a16",
   "metadata": {
    "papermill": {
     "duration": 0.013441,
     "end_time": "2023-06-20T20:27:31.373248",
     "exception": false,
     "start_time": "2023-06-20T20:27:31.359807",
     "status": "completed"
    },
    "tags": []
   },
   "source": [
    "**Revert_normalize** will undo the normalization on features"
   ]
  },
  {
   "cell_type": "code",
   "execution_count": 5,
   "id": "e39255cb",
   "metadata": {
    "execution": {
     "iopub.execute_input": "2023-06-20T20:27:31.402037Z",
     "iopub.status.busy": "2023-06-20T20:27:31.401492Z",
     "iopub.status.idle": "2023-06-20T20:27:31.405293Z",
     "shell.execute_reply": "2023-06-20T20:27:31.404674Z"
    },
    "papermill": {
     "duration": 0.02069,
     "end_time": "2023-06-20T20:27:31.407351",
     "exception": false,
     "start_time": "2023-06-20T20:27:31.386661",
     "status": "completed"
    },
    "tags": []
   },
   "outputs": [],
   "source": [
    "def revert_normalize(predictions, mean, std):\n",
    "    '''\n",
    "    This function reverts the changes caused by normalizing a feature\n",
    "    \n",
    "    Input: A set of predictions of type Series\n",
    "    \n",
    "    Output: A set of predictions that are no longer normalized of type Series\n",
    "    '''\n",
    "    return predictions * std + mean"
   ]
  },
  {
   "cell_type": "markdown",
   "id": "20af4a70",
   "metadata": {
    "papermill": {
     "duration": 0.012909,
     "end_time": "2023-06-20T20:27:31.433763",
     "exception": false,
     "start_time": "2023-06-20T20:27:31.420854",
     "status": "completed"
    },
    "tags": []
   },
   "source": [
    "## No normalization\n",
    "\n",
    "This model will not normalize any of the data points to evaluate the baseline performance of a linear regression model on this dataset"
   ]
  },
  {
   "cell_type": "markdown",
   "id": "177d215a",
   "metadata": {
    "papermill": {
     "duration": 0.013264,
     "end_time": "2023-06-20T20:27:31.460388",
     "exception": false,
     "start_time": "2023-06-20T20:27:31.447124",
     "status": "completed"
    },
    "tags": []
   },
   "source": [
    "### Access data as pandas dataframes\n",
    "\n",
    "Use `read_csv` to transform the data into a dataframe.\n",
    "\n",
    "Use the colume `'id'` as the index, since that is the role of this column"
   ]
  },
  {
   "cell_type": "code",
   "execution_count": 6,
   "id": "07f8ee9d",
   "metadata": {
    "execution": {
     "iopub.execute_input": "2023-06-20T20:27:31.488970Z",
     "iopub.status.busy": "2023-06-20T20:27:31.488062Z",
     "iopub.status.idle": "2023-06-20T20:27:31.809087Z",
     "shell.execute_reply": "2023-06-20T20:27:31.808221Z"
    },
    "papermill": {
     "duration": 0.337603,
     "end_time": "2023-06-20T20:27:31.811205",
     "exception": false,
     "start_time": "2023-06-20T20:27:31.473602",
     "status": "completed"
    },
    "tags": []
   },
   "outputs": [],
   "source": [
    "df_train = pd.read_csv(train_filepath, index_col='id')\n",
    "df_test = pd.read_csv(test_filepath, index_col='id')"
   ]
  },
  {
   "cell_type": "markdown",
   "id": "07e6d796",
   "metadata": {
    "papermill": {
     "duration": 0.012993,
     "end_time": "2023-06-20T20:27:31.837566",
     "exception": false,
     "start_time": "2023-06-20T20:27:31.824573",
     "status": "completed"
    },
    "tags": []
   },
   "source": [
    "Since `LinearRegression` does not take categorical data as an input, all categorical columns must be converted to integer or floating point values.\n",
    "\n",
    "In this dataset, the only categorical feature is 'Sex' which has three possible values ('I', 'M', 'F'). These values can simply be converted to 0, 1, and 2 respectively, then stored as an integer type"
   ]
  },
  {
   "cell_type": "code",
   "execution_count": 7,
   "id": "e9781b7b",
   "metadata": {
    "execution": {
     "iopub.execute_input": "2023-06-20T20:27:31.867310Z",
     "iopub.status.busy": "2023-06-20T20:27:31.866860Z",
     "iopub.status.idle": "2023-06-20T20:27:31.881529Z",
     "shell.execute_reply": "2023-06-20T20:27:31.880123Z"
    },
    "papermill": {
     "duration": 0.031972,
     "end_time": "2023-06-20T20:27:31.884168",
     "exception": false,
     "start_time": "2023-06-20T20:27:31.852196",
     "status": "completed"
    },
    "tags": []
   },
   "outputs": [],
   "source": [
    "df_train['Sex'] = df_train['Sex'].map({'I':0, 'M':1, 'F':2}).astype(int)\n",
    "df_test['Sex'] = df_test['Sex'].map({'I':0, 'M':1, 'F':2}).astype(int)"
   ]
  },
  {
   "cell_type": "markdown",
   "id": "0f387ba6",
   "metadata": {
    "papermill": {
     "duration": 0.013615,
     "end_time": "2023-06-20T20:27:31.911994",
     "exception": false,
     "start_time": "2023-06-20T20:27:31.898379",
     "status": "completed"
    },
    "tags": []
   },
   "source": [
    "Separate the data into the features and target using common names 'X' and 'y'\n",
    "\n",
    "Once divided, further separate the data into training and validation sets"
   ]
  },
  {
   "cell_type": "code",
   "execution_count": 8,
   "id": "36015e23",
   "metadata": {
    "execution": {
     "iopub.execute_input": "2023-06-20T20:27:31.940991Z",
     "iopub.status.busy": "2023-06-20T20:27:31.940649Z",
     "iopub.status.idle": "2023-06-20T20:27:31.962804Z",
     "shell.execute_reply": "2023-06-20T20:27:31.960917Z"
    },
    "papermill": {
     "duration": 0.039815,
     "end_time": "2023-06-20T20:27:31.965377",
     "exception": false,
     "start_time": "2023-06-20T20:27:31.925562",
     "status": "completed"
    },
    "tags": []
   },
   "outputs": [],
   "source": [
    "X = df_train.drop('Age', axis=1)\n",
    "y = df_train['Age']\n",
    "\n",
    "X_train, X_val, y_train, y_val = train_test_split(X, y, random_state=10)"
   ]
  },
  {
   "cell_type": "markdown",
   "id": "d8cd6036",
   "metadata": {
    "papermill": {
     "duration": 0.013327,
     "end_time": "2023-06-20T20:27:31.992216",
     "exception": false,
     "start_time": "2023-06-20T20:27:31.978889",
     "status": "completed"
    },
    "tags": []
   },
   "source": [
    "### ML Model\n",
    "\n",
    "Create a linear regression model and fit it to the training data. Then use the model to make predictions on the validation data"
   ]
  },
  {
   "cell_type": "code",
   "execution_count": 9,
   "id": "7754c739",
   "metadata": {
    "execution": {
     "iopub.execute_input": "2023-06-20T20:27:32.020983Z",
     "iopub.status.busy": "2023-06-20T20:27:32.020622Z",
     "iopub.status.idle": "2023-06-20T20:27:32.071580Z",
     "shell.execute_reply": "2023-06-20T20:27:32.070681Z"
    },
    "papermill": {
     "duration": 0.070835,
     "end_time": "2023-06-20T20:27:32.076622",
     "exception": false,
     "start_time": "2023-06-20T20:27:32.005787",
     "status": "completed"
    },
    "tags": []
   },
   "outputs": [],
   "source": [
    "clf_noNormalized = LinearRegression().fit(X_train, y_train)\n",
    "predictions_noNormalized = clf_noNormalized.predict(X_val)"
   ]
  },
  {
   "cell_type": "markdown",
   "id": "3ac6ee15",
   "metadata": {
    "papermill": {
     "duration": 0.034234,
     "end_time": "2023-06-20T20:27:32.147067",
     "exception": false,
     "start_time": "2023-06-20T20:27:32.112833",
     "status": "completed"
    },
    "tags": []
   },
   "source": [
    "Evaluate the accuracy of the model using `mean_absolute_error`"
   ]
  },
  {
   "cell_type": "code",
   "execution_count": 10,
   "id": "d1e9f657",
   "metadata": {
    "execution": {
     "iopub.execute_input": "2023-06-20T20:27:32.196341Z",
     "iopub.status.busy": "2023-06-20T20:27:32.195997Z",
     "iopub.status.idle": "2023-06-20T20:27:32.202505Z",
     "shell.execute_reply": "2023-06-20T20:27:32.201429Z"
    },
    "papermill": {
     "duration": 0.025633,
     "end_time": "2023-06-20T20:27:32.204066",
     "exception": false,
     "start_time": "2023-06-20T20:27:32.178433",
     "status": "completed"
    },
    "tags": []
   },
   "outputs": [
    {
     "name": "stdout",
     "output_type": "stream",
     "text": [
      "Mean absolute error: 1.4917817961878985\n"
     ]
    }
   ],
   "source": [
    "accuracy_noNormalized = mean_absolute_error(y_val, predictions_noNormalized)\n",
    "print('Mean absolute error:', accuracy_noNormalized)"
   ]
  },
  {
   "cell_type": "markdown",
   "id": "24809751",
   "metadata": {
    "papermill": {
     "duration": 0.013175,
     "end_time": "2023-06-20T20:27:32.230832",
     "exception": false,
     "start_time": "2023-06-20T20:27:32.217657",
     "status": "completed"
    },
    "tags": []
   },
   "source": [
    "The mean absolute error using this model and not normalizing any of the dataset yielded a 1.492. This is the base to compare the other methods to"
   ]
  },
  {
   "cell_type": "markdown",
   "id": "9b659364",
   "metadata": {
    "papermill": {
     "duration": 0.013251,
     "end_time": "2023-06-20T20:27:32.257579",
     "exception": false,
     "start_time": "2023-06-20T20:27:32.244328",
     "status": "completed"
    },
    "tags": []
   },
   "source": [
    "## Normalize features\n",
    "\n",
    "In this method only the features will be normalized"
   ]
  },
  {
   "cell_type": "markdown",
   "id": "cb1e0f8d",
   "metadata": {
    "papermill": {
     "duration": 0.013197,
     "end_time": "2023-06-20T20:27:32.284527",
     "exception": false,
     "start_time": "2023-06-20T20:27:32.271330",
     "status": "completed"
    },
    "tags": []
   },
   "source": [
    "### Access data as pandas dataframes\n",
    "\n",
    "Use `read_csv` to transform the data into a dataframe.\n",
    "\n",
    "Use the colume `'id'` as the index, since that is the role of this column"
   ]
  },
  {
   "cell_type": "code",
   "execution_count": 11,
   "id": "821351f7",
   "metadata": {
    "execution": {
     "iopub.execute_input": "2023-06-20T20:27:32.313694Z",
     "iopub.status.busy": "2023-06-20T20:27:32.313374Z",
     "iopub.status.idle": "2023-06-20T20:27:32.418019Z",
     "shell.execute_reply": "2023-06-20T20:27:32.417104Z"
    },
    "papermill": {
     "duration": 0.12179,
     "end_time": "2023-06-20T20:27:32.420112",
     "exception": false,
     "start_time": "2023-06-20T20:27:32.298322",
     "status": "completed"
    },
    "tags": []
   },
   "outputs": [],
   "source": [
    "df_train = pd.read_csv(train_filepath, index_col='id')\n",
    "df_test = pd.read_csv(test_filepath, index_col='id')"
   ]
  },
  {
   "cell_type": "markdown",
   "id": "2bef8d42",
   "metadata": {
    "papermill": {
     "duration": 0.013163,
     "end_time": "2023-06-20T20:27:32.446731",
     "exception": false,
     "start_time": "2023-06-20T20:27:32.433568",
     "status": "completed"
    },
    "tags": []
   },
   "source": [
    "Since `LinearRegression` does not take categorical data as an input, all categorical columns must be converted to integer or floating point values.\n",
    "\n",
    "In this dataset, the only categorical feature is 'Sex' which has three possible values ('I', 'M', 'F'). These values can simply be converted to 0, 1, and 2 respectively, then stored as an integer type"
   ]
  },
  {
   "cell_type": "code",
   "execution_count": 12,
   "id": "3c9fab69",
   "metadata": {
    "execution": {
     "iopub.execute_input": "2023-06-20T20:27:32.475108Z",
     "iopub.status.busy": "2023-06-20T20:27:32.474751Z",
     "iopub.status.idle": "2023-06-20T20:27:32.484717Z",
     "shell.execute_reply": "2023-06-20T20:27:32.483894Z"
    },
    "papermill": {
     "duration": 0.026646,
     "end_time": "2023-06-20T20:27:32.486774",
     "exception": false,
     "start_time": "2023-06-20T20:27:32.460128",
     "status": "completed"
    },
    "tags": []
   },
   "outputs": [],
   "source": [
    "df_train['Sex'] = df_train['Sex'].map({'I':0, 'M':1, 'F':2}).astype(int)\n",
    "df_test['Sex'] = df_test['Sex'].map({'I':0, 'M':1, 'F':2}).astype(int)"
   ]
  },
  {
   "cell_type": "markdown",
   "id": "209d6de1",
   "metadata": {
    "papermill": {
     "duration": 0.013068,
     "end_time": "2023-06-20T20:27:32.513322",
     "exception": false,
     "start_time": "2023-06-20T20:27:32.500254",
     "status": "completed"
    },
    "tags": []
   },
   "source": [
    "Separate the data into the features and target using common names 'X' and 'y'\n",
    "\n",
    "Once divided, further separate the data into training and validation sets"
   ]
  },
  {
   "cell_type": "code",
   "execution_count": 13,
   "id": "735297dc",
   "metadata": {
    "execution": {
     "iopub.execute_input": "2023-06-20T20:27:32.542348Z",
     "iopub.status.busy": "2023-06-20T20:27:32.542002Z",
     "iopub.status.idle": "2023-06-20T20:27:32.559139Z",
     "shell.execute_reply": "2023-06-20T20:27:32.558225Z"
    },
    "papermill": {
     "duration": 0.034509,
     "end_time": "2023-06-20T20:27:32.561386",
     "exception": false,
     "start_time": "2023-06-20T20:27:32.526877",
     "status": "completed"
    },
    "tags": []
   },
   "outputs": [],
   "source": [
    "X = df_train.drop('Age', axis=1)\n",
    "y = df_train['Age']\n",
    "\n",
    "X_train, X_val, y_train, y_val = train_test_split(X, y, random_state=10)"
   ]
  },
  {
   "cell_type": "markdown",
   "id": "20ad9e13",
   "metadata": {
    "papermill": {
     "duration": 0.012995,
     "end_time": "2023-06-20T20:27:32.587955",
     "exception": false,
     "start_time": "2023-06-20T20:27:32.574960",
     "status": "completed"
    },
    "tags": []
   },
   "source": [
    "Normalize all features using the functions created in the Universal Information section at the beginning of the notebook"
   ]
  },
  {
   "cell_type": "code",
   "execution_count": 14,
   "id": "11ee16fc",
   "metadata": {
    "execution": {
     "iopub.execute_input": "2023-06-20T20:27:32.615607Z",
     "iopub.status.busy": "2023-06-20T20:27:32.615303Z",
     "iopub.status.idle": "2023-06-20T20:27:32.643342Z",
     "shell.execute_reply": "2023-06-20T20:27:32.642381Z"
    },
    "papermill": {
     "duration": 0.044286,
     "end_time": "2023-06-20T20:27:32.645455",
     "exception": false,
     "start_time": "2023-06-20T20:27:32.601169",
     "status": "completed"
    },
    "tags": []
   },
   "outputs": [],
   "source": [
    "X_train = normalize_features(X_train)\n",
    "X_val = normalize_features(X_val)\n",
    "df_test = normalize_features(df_test)"
   ]
  },
  {
   "cell_type": "markdown",
   "id": "6076295c",
   "metadata": {
    "papermill": {
     "duration": 0.013663,
     "end_time": "2023-06-20T20:27:32.672982",
     "exception": false,
     "start_time": "2023-06-20T20:27:32.659319",
     "status": "completed"
    },
    "tags": []
   },
   "source": [
    "### ML Model\n",
    "\n",
    "Create a linear regression model and fit it to the training data. Then use the model to make predictions on the validation data"
   ]
  },
  {
   "cell_type": "code",
   "execution_count": 15,
   "id": "fd9ab200",
   "metadata": {
    "execution": {
     "iopub.execute_input": "2023-06-20T20:27:32.701741Z",
     "iopub.status.busy": "2023-06-20T20:27:32.701378Z",
     "iopub.status.idle": "2023-06-20T20:27:32.729931Z",
     "shell.execute_reply": "2023-06-20T20:27:32.729139Z"
    },
    "papermill": {
     "duration": 0.045778,
     "end_time": "2023-06-20T20:27:32.732299",
     "exception": false,
     "start_time": "2023-06-20T20:27:32.686521",
     "status": "completed"
    },
    "tags": []
   },
   "outputs": [],
   "source": [
    "clf_featureNormalized = LinearRegression().fit(X_train, y_train)\n",
    "predictions_featureNormalized = clf_featureNormalized.predict(X_val)"
   ]
  },
  {
   "cell_type": "code",
   "execution_count": 16,
   "id": "d44e71ef",
   "metadata": {
    "execution": {
     "iopub.execute_input": "2023-06-20T20:27:32.798181Z",
     "iopub.status.busy": "2023-06-20T20:27:32.797379Z",
     "iopub.status.idle": "2023-06-20T20:27:32.802827Z",
     "shell.execute_reply": "2023-06-20T20:27:32.802188Z"
    },
    "papermill": {
     "duration": 0.043353,
     "end_time": "2023-06-20T20:27:32.804610",
     "exception": false,
     "start_time": "2023-06-20T20:27:32.761257",
     "status": "completed"
    },
    "tags": []
   },
   "outputs": [
    {
     "name": "stdout",
     "output_type": "stream",
     "text": [
      "Predicted:\n",
      " [ 9.40244233 11.20461771 13.32516142  9.52746728  4.74511222]\n",
      "\n",
      "True:\n",
      " id\n",
      "15752     9\n",
      "48375    18\n",
      "63342    11\n",
      "68606     7\n",
      "4306      4\n",
      "Name: Age, dtype: int64\n"
     ]
    }
   ],
   "source": [
    "print('Predicted:\\n',predictions_featureNormalized[:5])\n",
    "print('\\nTrue:\\n',y_val[:5])"
   ]
  },
  {
   "cell_type": "markdown",
   "id": "70a393b1",
   "metadata": {
    "papermill": {
     "duration": 0.016028,
     "end_time": "2023-06-20T20:27:32.853148",
     "exception": false,
     "start_time": "2023-06-20T20:27:32.837120",
     "status": "completed"
    },
    "tags": []
   },
   "source": [
    "Evaluate the accuracy of the model using `mean_absolute_error`"
   ]
  },
  {
   "cell_type": "code",
   "execution_count": 17,
   "id": "3e861509",
   "metadata": {
    "execution": {
     "iopub.execute_input": "2023-06-20T20:27:32.883688Z",
     "iopub.status.busy": "2023-06-20T20:27:32.882980Z",
     "iopub.status.idle": "2023-06-20T20:27:32.888284Z",
     "shell.execute_reply": "2023-06-20T20:27:32.887412Z"
    },
    "papermill": {
     "duration": 0.023889,
     "end_time": "2023-06-20T20:27:32.890656",
     "exception": false,
     "start_time": "2023-06-20T20:27:32.866767",
     "status": "completed"
    },
    "tags": []
   },
   "outputs": [
    {
     "name": "stdout",
     "output_type": "stream",
     "text": [
      "Mean absolute error: 1.4858929226773459\n"
     ]
    }
   ],
   "source": [
    "accuracy_featureNormalized = mean_absolute_error(y_val, predictions_featureNormalized)\n",
    "print('Mean absolute error:', accuracy_featureNormalized)"
   ]
  },
  {
   "cell_type": "markdown",
   "id": "2fd9da5e",
   "metadata": {
    "papermill": {
     "duration": 0.013799,
     "end_time": "2023-06-20T20:27:32.918882",
     "exception": false,
     "start_time": "2023-06-20T20:27:32.905083",
     "status": "completed"
    },
    "tags": []
   },
   "source": [
    "The mean absolute error using this model and not normalizing any of the dataset yielded a 1.486"
   ]
  },
  {
   "cell_type": "markdown",
   "id": "497fae86",
   "metadata": {
    "papermill": {
     "duration": 0.013746,
     "end_time": "2023-06-20T20:27:32.946521",
     "exception": false,
     "start_time": "2023-06-20T20:27:32.932775",
     "status": "completed"
    },
    "tags": []
   },
   "source": [
    "## Normalize all data\n",
    "\n",
    "In this method the entire dataframe will be normalized"
   ]
  },
  {
   "cell_type": "markdown",
   "id": "e2ab13f6",
   "metadata": {
    "papermill": {
     "duration": 0.013821,
     "end_time": "2023-06-20T20:27:32.974486",
     "exception": false,
     "start_time": "2023-06-20T20:27:32.960665",
     "status": "completed"
    },
    "tags": []
   },
   "source": [
    "### Access data as pandas dataframes\n",
    "\n",
    "Use `read_csv` to transform the data into a dataframe.\n",
    "\n",
    "Use the colume `'id'` as the index, since that is the role of this column"
   ]
  },
  {
   "cell_type": "code",
   "execution_count": 18,
   "id": "949445c5",
   "metadata": {
    "execution": {
     "iopub.execute_input": "2023-06-20T20:27:33.004899Z",
     "iopub.status.busy": "2023-06-20T20:27:33.004549Z",
     "iopub.status.idle": "2023-06-20T20:27:33.105501Z",
     "shell.execute_reply": "2023-06-20T20:27:33.104129Z"
    },
    "papermill": {
     "duration": 0.118564,
     "end_time": "2023-06-20T20:27:33.107565",
     "exception": false,
     "start_time": "2023-06-20T20:27:32.989001",
     "status": "completed"
    },
    "tags": []
   },
   "outputs": [],
   "source": [
    "df_train = pd.read_csv(train_filepath, index_col='id')\n",
    "df_test = pd.read_csv(test_filepath, index_col='id')"
   ]
  },
  {
   "cell_type": "markdown",
   "id": "c947ecae",
   "metadata": {
    "papermill": {
     "duration": 0.013282,
     "end_time": "2023-06-20T20:27:33.134664",
     "exception": false,
     "start_time": "2023-06-20T20:27:33.121382",
     "status": "completed"
    },
    "tags": []
   },
   "source": [
    "Since `LinearRegression` does not take categorical data as an input, all categorical columns must be converted to integer or floating point values.\n",
    "\n",
    "In this dataset, the only categorical feature is 'Sex' which has three possible values ('I', 'M', 'F'). These values can simply be converted to 0, 1, and 2 respectively, then stored as an integer type"
   ]
  },
  {
   "cell_type": "code",
   "execution_count": 19,
   "id": "01b6440b",
   "metadata": {
    "execution": {
     "iopub.execute_input": "2023-06-20T20:27:33.163184Z",
     "iopub.status.busy": "2023-06-20T20:27:33.162880Z",
     "iopub.status.idle": "2023-06-20T20:27:33.174158Z",
     "shell.execute_reply": "2023-06-20T20:27:33.172938Z"
    },
    "papermill": {
     "duration": 0.028423,
     "end_time": "2023-06-20T20:27:33.176571",
     "exception": false,
     "start_time": "2023-06-20T20:27:33.148148",
     "status": "completed"
    },
    "tags": []
   },
   "outputs": [],
   "source": [
    "df_train['Sex'] = df_train['Sex'].map({'I':0, 'M':1, 'F':2}).astype(int)\n",
    "df_test['Sex'] = df_test['Sex'].map({'I':0, 'M':1, 'F':2}).astype(int)"
   ]
  },
  {
   "cell_type": "markdown",
   "id": "462fea49",
   "metadata": {
    "papermill": {
     "duration": 0.013446,
     "end_time": "2023-06-20T20:27:33.203895",
     "exception": false,
     "start_time": "2023-06-20T20:27:33.190449",
     "status": "completed"
    },
    "tags": []
   },
   "source": [
    "Separate the data into the features and target using common names 'X' and 'y'\n",
    "\n",
    "Once divided, further separate the data into training and validation sets"
   ]
  },
  {
   "cell_type": "code",
   "execution_count": 20,
   "id": "b731e561",
   "metadata": {
    "execution": {
     "iopub.execute_input": "2023-06-20T20:27:33.232549Z",
     "iopub.status.busy": "2023-06-20T20:27:33.232237Z",
     "iopub.status.idle": "2023-06-20T20:27:33.248318Z",
     "shell.execute_reply": "2023-06-20T20:27:33.246698Z"
    },
    "papermill": {
     "duration": 0.033062,
     "end_time": "2023-06-20T20:27:33.250578",
     "exception": false,
     "start_time": "2023-06-20T20:27:33.217516",
     "status": "completed"
    },
    "tags": []
   },
   "outputs": [],
   "source": [
    "X = df_train.drop('Age', axis=1)\n",
    "y = df_train['Age']\n",
    "\n",
    "X_train, X_test, y_train, y_val = train_test_split(X, y, random_state=10)"
   ]
  },
  {
   "cell_type": "markdown",
   "id": "8920ed2e",
   "metadata": {
    "papermill": {
     "duration": 0.013327,
     "end_time": "2023-06-20T20:27:33.277706",
     "exception": false,
     "start_time": "2023-06-20T20:27:33.264379",
     "status": "completed"
    },
    "tags": []
   },
   "source": [
    "Since the true mean and standard deviation for age will be lost after normalization, these values are stored for when the ages need to be reverted back to the true values/predictions"
   ]
  },
  {
   "cell_type": "code",
   "execution_count": 21,
   "id": "7a092803",
   "metadata": {
    "execution": {
     "iopub.execute_input": "2023-06-20T20:27:33.307838Z",
     "iopub.status.busy": "2023-06-20T20:27:33.307346Z",
     "iopub.status.idle": "2023-06-20T20:27:33.313491Z",
     "shell.execute_reply": "2023-06-20T20:27:33.312418Z"
    },
    "papermill": {
     "duration": 0.02348,
     "end_time": "2023-06-20T20:27:33.315889",
     "exception": false,
     "start_time": "2023-06-20T20:27:33.292409",
     "status": "completed"
    },
    "tags": []
   },
   "outputs": [],
   "source": [
    "mean_age_train = y_train.mean()\n",
    "std_age_train = y_train.std()\n",
    "\n",
    "mean_age_val = y_val.mean()\n",
    "std_age_val = y_val.std()"
   ]
  },
  {
   "cell_type": "markdown",
   "id": "a08fe14c",
   "metadata": {
    "papermill": {
     "duration": 0.013309,
     "end_time": "2023-06-20T20:27:33.343179",
     "exception": false,
     "start_time": "2023-06-20T20:27:33.329870",
     "status": "completed"
    },
    "tags": []
   },
   "source": [
    "Normalize all features and targets using the functions created in the Universal Information section at the beginning of the notebook.\n",
    "\n",
    "It is important to keep the training and validation data separate to simulate a true testing environment. This means that the validation data has no impact on the testing data"
   ]
  },
  {
   "cell_type": "code",
   "execution_count": 22,
   "id": "78edd601",
   "metadata": {
    "execution": {
     "iopub.execute_input": "2023-06-20T20:27:33.371595Z",
     "iopub.status.busy": "2023-06-20T20:27:33.371273Z",
     "iopub.status.idle": "2023-06-20T20:27:33.399913Z",
     "shell.execute_reply": "2023-06-20T20:27:33.399050Z"
    },
    "papermill": {
     "duration": 0.045295,
     "end_time": "2023-06-20T20:27:33.401940",
     "exception": false,
     "start_time": "2023-06-20T20:27:33.356645",
     "status": "completed"
    },
    "tags": []
   },
   "outputs": [],
   "source": [
    "X_train = normalize_features(X_train)\n",
    "X_val = normalize_features(X_val)\n",
    "\n",
    "y_train = normalize(y_train)\n",
    "y_val = normalize(y_val)\n",
    "\n",
    "df_test = normalize_features(df_test)"
   ]
  },
  {
   "cell_type": "markdown",
   "id": "b9487ae0",
   "metadata": {
    "papermill": {
     "duration": 0.013317,
     "end_time": "2023-06-20T20:27:33.428996",
     "exception": false,
     "start_time": "2023-06-20T20:27:33.415679",
     "status": "completed"
    },
    "tags": []
   },
   "source": [
    "### ML Model\n",
    "\n",
    "Create a linear regression model and fit it to the training data. Then use the model to make predictions on the validation data"
   ]
  },
  {
   "cell_type": "code",
   "execution_count": 23,
   "id": "29be6653",
   "metadata": {
    "execution": {
     "iopub.execute_input": "2023-06-20T20:27:33.457932Z",
     "iopub.status.busy": "2023-06-20T20:27:33.457556Z",
     "iopub.status.idle": "2023-06-20T20:27:33.488981Z",
     "shell.execute_reply": "2023-06-20T20:27:33.488042Z"
    },
    "papermill": {
     "duration": 0.049219,
     "end_time": "2023-06-20T20:27:33.491736",
     "exception": false,
     "start_time": "2023-06-20T20:27:33.442517",
     "status": "completed"
    },
    "tags": []
   },
   "outputs": [],
   "source": [
    "clf_allNormalized = LinearRegression().fit(X_train, y_train)\n",
    "predictions_allNormalized = clf_allNormalized.predict(X_val)"
   ]
  },
  {
   "cell_type": "markdown",
   "id": "37e502c0",
   "metadata": {
    "papermill": {
     "duration": 0.036987,
     "end_time": "2023-06-20T20:27:33.554319",
     "exception": false,
     "start_time": "2023-06-20T20:27:33.517332",
     "status": "completed"
    },
    "tags": []
   },
   "source": [
    "Revert the predicted and true age values to the correct range. This is accomplished using the `revert_normalize` function created in the Universal Information at the beginning of this notebook"
   ]
  },
  {
   "cell_type": "code",
   "execution_count": 24,
   "id": "d2f4d72b",
   "metadata": {
    "execution": {
     "iopub.execute_input": "2023-06-20T20:27:33.605917Z",
     "iopub.status.busy": "2023-06-20T20:27:33.605563Z",
     "iopub.status.idle": "2023-06-20T20:27:33.611615Z",
     "shell.execute_reply": "2023-06-20T20:27:33.610299Z"
    },
    "papermill": {
     "duration": 0.02538,
     "end_time": "2023-06-20T20:27:33.613524",
     "exception": false,
     "start_time": "2023-06-20T20:27:33.588144",
     "status": "completed"
    },
    "tags": []
   },
   "outputs": [],
   "source": [
    "predictions_allNormalized_train = revert_normalize(predictions_allNormalized, mean_age_train, std_age_train)\n",
    "predictions_allNormalized_val = revert_normalize(predictions_allNormalized, mean_age_val, std_age_val)\n",
    "\n",
    "y_val = revert_normalize(y_val, mean_age_val, std_age_val)"
   ]
  },
  {
   "cell_type": "code",
   "execution_count": 25,
   "id": "bd0d1da6",
   "metadata": {
    "execution": {
     "iopub.execute_input": "2023-06-20T20:27:33.643192Z",
     "iopub.status.busy": "2023-06-20T20:27:33.642851Z",
     "iopub.status.idle": "2023-06-20T20:27:33.649933Z",
     "shell.execute_reply": "2023-06-20T20:27:33.648486Z"
    },
    "papermill": {
     "duration": 0.024426,
     "end_time": "2023-06-20T20:27:33.651921",
     "exception": false,
     "start_time": "2023-06-20T20:27:33.627495",
     "status": "completed"
    },
    "tags": []
   },
   "outputs": [
    {
     "name": "stdout",
     "output_type": "stream",
     "text": [
      "Predictions (train):\n",
      " [ 9.40244233 11.20461771 13.32516142  9.52746728  4.74511222]\n",
      "Predictions (validation):\n",
      " [ 9.40317831 11.20048583 13.31530173  9.52786555  4.75842813]\n",
      "\n",
      "True values:\n",
      " id\n",
      "15752     9.0\n",
      "48375    18.0\n",
      "63342    11.0\n",
      "68606     7.0\n",
      "4306      4.0\n",
      "Name: Age, dtype: float64\n"
     ]
    }
   ],
   "source": [
    "print('Predictions (train):\\n', predictions_allNormalized_train[:5])\n",
    "print('Predictions (validation):\\n', predictions_allNormalized_val[:5])\n",
    "\n",
    "print('\\nTrue values:\\n', y_val[:5])"
   ]
  },
  {
   "cell_type": "markdown",
   "id": "92f68b19",
   "metadata": {
    "papermill": {
     "duration": 0.013638,
     "end_time": "2023-06-20T20:27:33.679263",
     "exception": false,
     "start_time": "2023-06-20T20:27:33.665625",
     "status": "completed"
    },
    "tags": []
   },
   "source": [
    "Evaluate the accuracy of the model using `mean_absolute_error`"
   ]
  },
  {
   "cell_type": "code",
   "execution_count": 26,
   "id": "53bf429b",
   "metadata": {
    "execution": {
     "iopub.execute_input": "2023-06-20T20:27:33.709048Z",
     "iopub.status.busy": "2023-06-20T20:27:33.708683Z",
     "iopub.status.idle": "2023-06-20T20:27:33.716870Z",
     "shell.execute_reply": "2023-06-20T20:27:33.715978Z"
    },
    "papermill": {
     "duration": 0.025138,
     "end_time": "2023-06-20T20:27:33.719139",
     "exception": false,
     "start_time": "2023-06-20T20:27:33.694001",
     "status": "completed"
    },
    "tags": []
   },
   "outputs": [
    {
     "name": "stdout",
     "output_type": "stream",
     "text": [
      "Mean absolute error (train): 1.485892922677346\n",
      "Mean absolute error (validation): 1.485751892389333\n"
     ]
    }
   ],
   "source": [
    "accuracy_allNormalized_train = mean_absolute_error(y_val, predictions_allNormalized_train)\n",
    "accuracy_allNormalized_val = mean_absolute_error(y_val, predictions_allNormalized_val)\n",
    "\n",
    "print('Mean absolute error (train):', accuracy_allNormalized_train)\n",
    "print('Mean absolute error (validation):', accuracy_allNormalized_val)"
   ]
  },
  {
   "cell_type": "markdown",
   "id": "257df22b",
   "metadata": {
    "papermill": {
     "duration": 0.013701,
     "end_time": "2023-06-20T20:27:33.746968",
     "exception": false,
     "start_time": "2023-06-20T20:27:33.733267",
     "status": "completed"
    },
    "tags": []
   },
   "source": [
    "The mean absolute error using this model and not normalizing any of the dataset yielded a 1.486"
   ]
  },
  {
   "cell_type": "markdown",
   "id": "85cd7bf9",
   "metadata": {
    "papermill": {
     "duration": 0.014253,
     "end_time": "2023-06-20T20:27:33.775417",
     "exception": false,
     "start_time": "2023-06-20T20:27:33.761164",
     "status": "completed"
    },
    "tags": []
   },
   "source": [
    "## Evaluate Methods\n",
    "\n",
    "The next section will compare the performances of all methods tested so far"
   ]
  },
  {
   "cell_type": "markdown",
   "id": "2cc57204",
   "metadata": {
    "papermill": {
     "duration": 0.013637,
     "end_time": "2023-06-20T20:27:33.803129",
     "exception": false,
     "start_time": "2023-06-20T20:27:33.789492",
     "status": "completed"
    },
    "tags": []
   },
   "source": [
    "Consolidate all MAE scores into one location and determine the minimum. The minimum of these scores will be the most accurate method and will be submitted to the competition."
   ]
  },
  {
   "cell_type": "code",
   "execution_count": 27,
   "id": "2c1e6c6f",
   "metadata": {
    "execution": {
     "iopub.execute_input": "2023-06-20T20:27:33.833460Z",
     "iopub.status.busy": "2023-06-20T20:27:33.832561Z",
     "iopub.status.idle": "2023-06-20T20:27:33.838394Z",
     "shell.execute_reply": "2023-06-20T20:27:33.837185Z"
    },
    "papermill": {
     "duration": 0.023076,
     "end_time": "2023-06-20T20:27:33.840391",
     "exception": false,
     "start_time": "2023-06-20T20:27:33.817315",
     "status": "completed"
    },
    "tags": []
   },
   "outputs": [
    {
     "name": "stdout",
     "output_type": "stream",
     "text": [
      "No normalized score: 1.4917817961878985\n",
      "Features normalized score: 1.4858929226773459\n",
      "All normalized score (train): 1.485892922677346\n",
      "All normalized score (validation): 1.485751892389333\n",
      "\n",
      "min_accuracy score = 1.485751892389333\n"
     ]
    }
   ],
   "source": [
    "print('No normalized score:',accuracy_noNormalized)\n",
    "print('Features normalized score:',accuracy_featureNormalized)\n",
    "print('All normalized score (train):',accuracy_allNormalized_train)\n",
    "print('All normalized score (validation):',accuracy_allNormalized_val)\n",
    "\n",
    "min_score = min(accuracy_noNormalized, \n",
    "                min(accuracy_featureNormalized, \n",
    "                    min(accuracy_allNormalized_train, accuracy_allNormalized_val)))\n",
    "\n",
    "print('\\nmin_accuracy score =',min_score)"
   ]
  },
  {
   "cell_type": "markdown",
   "id": "8ef937f2",
   "metadata": {
    "papermill": {
     "duration": 0.013859,
     "end_time": "2023-06-20T20:27:33.869567",
     "exception": false,
     "start_time": "2023-06-20T20:27:33.855708",
     "status": "completed"
    },
    "tags": []
   },
   "source": [
    "The minimum score from the three methods is 1.485751892389333 (the method where all data was normalized, then reverted using the validation age mean and std). Therefore, this is the method that will be used to make predictions for the test set and have the predictions submitted to the comeptition"
   ]
  },
  {
   "cell_type": "markdown",
   "id": "f3a76e15",
   "metadata": {
    "papermill": {
     "duration": 0.01424,
     "end_time": "2023-06-20T20:27:33.899968",
     "exception": false,
     "start_time": "2023-06-20T20:27:33.885728",
     "status": "completed"
    },
    "tags": []
   },
   "source": [
    "## Submissions\n",
    "\n",
    "These are files that have been submitted into the competition"
   ]
  },
  {
   "cell_type": "markdown",
   "id": "49b2359a",
   "metadata": {
    "papermill": {
     "duration": 0.014074,
     "end_time": "2023-06-20T20:27:33.927955",
     "exception": false,
     "start_time": "2023-06-20T20:27:33.913881",
     "status": "completed"
    },
    "tags": []
   },
   "source": [
    "### Normalized features"
   ]
  },
  {
   "cell_type": "markdown",
   "id": "04636807",
   "metadata": {
    "papermill": {
     "duration": 0.013605,
     "end_time": "2023-06-20T20:27:33.955807",
     "exception": false,
     "start_time": "2023-06-20T20:27:33.942202",
     "status": "completed"
    },
    "tags": []
   },
   "source": [
    "Generate predictions using the normalized feature linear regression model. \n",
    "\n",
    "To make sure these predictions are reasonable, view the first 5"
   ]
  },
  {
   "cell_type": "code",
   "execution_count": 28,
   "id": "a7c68763",
   "metadata": {
    "execution": {
     "iopub.execute_input": "2023-06-20T20:27:33.986229Z",
     "iopub.status.busy": "2023-06-20T20:27:33.985400Z",
     "iopub.status.idle": "2023-06-20T20:27:33.995380Z",
     "shell.execute_reply": "2023-06-20T20:27:33.994624Z"
    },
    "papermill": {
     "duration": 0.027522,
     "end_time": "2023-06-20T20:27:33.997527",
     "exception": false,
     "start_time": "2023-06-20T20:27:33.970005",
     "status": "completed"
    },
    "tags": []
   },
   "outputs": [
    {
     "name": "stdout",
     "output_type": "stream",
     "text": [
      "Test Predictions:\n",
      " [ 7.78896891  7.80360933 10.46703751  9.52078342  7.60673022]\n"
     ]
    }
   ],
   "source": [
    "test_predictions = clf_featureNormalized.predict(df_test)\n",
    "print('Test Predictions:\\n',test_predictions[:5])"
   ]
  },
  {
   "cell_type": "markdown",
   "id": "09e84828",
   "metadata": {
    "papermill": {
     "duration": 0.017409,
     "end_time": "2023-06-20T20:27:34.032910",
     "exception": false,
     "start_time": "2023-06-20T20:27:34.015501",
     "status": "completed"
    },
    "tags": []
   },
   "source": [
    "Put the predictions into a pandas dataframe with the index being the `'id'` column in the original file"
   ]
  },
  {
   "cell_type": "code",
   "execution_count": 29,
   "id": "d7374757",
   "metadata": {
    "execution": {
     "iopub.execute_input": "2023-06-20T20:27:34.070002Z",
     "iopub.status.busy": "2023-06-20T20:27:34.069655Z",
     "iopub.status.idle": "2023-06-20T20:27:34.093312Z",
     "shell.execute_reply": "2023-06-20T20:27:34.092484Z"
    },
    "papermill": {
     "duration": 0.044782,
     "end_time": "2023-06-20T20:27:34.095557",
     "exception": false,
     "start_time": "2023-06-20T20:27:34.050775",
     "status": "completed"
    },
    "tags": []
   },
   "outputs": [
    {
     "data": {
      "text/html": [
       "<div>\n",
       "<style scoped>\n",
       "    .dataframe tbody tr th:only-of-type {\n",
       "        vertical-align: middle;\n",
       "    }\n",
       "\n",
       "    .dataframe tbody tr th {\n",
       "        vertical-align: top;\n",
       "    }\n",
       "\n",
       "    .dataframe thead th {\n",
       "        text-align: right;\n",
       "    }\n",
       "</style>\n",
       "<table border=\"1\" class=\"dataframe\">\n",
       "  <thead>\n",
       "    <tr style=\"text-align: right;\">\n",
       "      <th></th>\n",
       "      <th>Age</th>\n",
       "    </tr>\n",
       "    <tr>\n",
       "      <th>id</th>\n",
       "      <th></th>\n",
       "    </tr>\n",
       "  </thead>\n",
       "  <tbody>\n",
       "    <tr>\n",
       "      <th>74051</th>\n",
       "      <td>7.788969</td>\n",
       "    </tr>\n",
       "    <tr>\n",
       "      <th>74052</th>\n",
       "      <td>7.803609</td>\n",
       "    </tr>\n",
       "    <tr>\n",
       "      <th>74053</th>\n",
       "      <td>10.467038</td>\n",
       "    </tr>\n",
       "    <tr>\n",
       "      <th>74054</th>\n",
       "      <td>9.520783</td>\n",
       "    </tr>\n",
       "    <tr>\n",
       "      <th>74055</th>\n",
       "      <td>7.606730</td>\n",
       "    </tr>\n",
       "  </tbody>\n",
       "</table>\n",
       "</div>"
      ],
      "text/plain": [
       "             Age\n",
       "id              \n",
       "74051   7.788969\n",
       "74052   7.803609\n",
       "74053  10.467038\n",
       "74054   9.520783\n",
       "74055   7.606730"
      ]
     },
     "execution_count": 29,
     "metadata": {},
     "output_type": "execute_result"
    }
   ],
   "source": [
    "submission2 = pd.DataFrame(data={'Age':test_predictions}, index=df_test.index)\n",
    "\n",
    "submission2.head()"
   ]
  },
  {
   "cell_type": "markdown",
   "id": "ba2759b6",
   "metadata": {
    "papermill": {
     "duration": 0.014066,
     "end_time": "2023-06-20T20:27:34.128513",
     "exception": false,
     "start_time": "2023-06-20T20:27:34.114447",
     "status": "completed"
    },
    "tags": []
   },
   "source": [
    "Create a `.csv` file with the resulting dataframe. This is the file that will be submitted to the competition"
   ]
  },
  {
   "cell_type": "code",
   "execution_count": 30,
   "id": "6f5481e1",
   "metadata": {
    "execution": {
     "iopub.execute_input": "2023-06-20T20:27:34.159980Z",
     "iopub.status.busy": "2023-06-20T20:27:34.159633Z",
     "iopub.status.idle": "2023-06-20T20:27:34.255342Z",
     "shell.execute_reply": "2023-06-20T20:27:34.254154Z"
    },
    "papermill": {
     "duration": 0.113809,
     "end_time": "2023-06-20T20:27:34.257589",
     "exception": false,
     "start_time": "2023-06-20T20:27:34.143780",
     "status": "completed"
    },
    "tags": []
   },
   "outputs": [],
   "source": [
    "submission2.to_csv('Submission2.csv')"
   ]
  },
  {
   "cell_type": "markdown",
   "id": "27f95bc9",
   "metadata": {
    "papermill": {
     "duration": 0.014295,
     "end_time": "2023-06-20T20:27:34.286016",
     "exception": false,
     "start_time": "2023-06-20T20:27:34.271721",
     "status": "completed"
    },
    "tags": []
   },
   "source": [
    "#### Result\n",
    "\n",
    "The MAE for this set of predictions is 1.48523"
   ]
  },
  {
   "cell_type": "markdown",
   "id": "15c672ff",
   "metadata": {
    "papermill": {
     "duration": 0.014408,
     "end_time": "2023-06-20T20:27:34.314635",
     "exception": false,
     "start_time": "2023-06-20T20:27:34.300227",
     "status": "completed"
    },
    "tags": []
   },
   "source": [
    "### Normalized all data - training age\n",
    "\n",
    "This submission uses the result of normalizing all data. To convert the predictions to reasonable values, the mean and std from the training data was used to undo the normalization."
   ]
  },
  {
   "cell_type": "markdown",
   "id": "e9ab55c7",
   "metadata": {
    "papermill": {
     "duration": 0.015014,
     "end_time": "2023-06-20T20:27:34.344618",
     "exception": false,
     "start_time": "2023-06-20T20:27:34.329604",
     "status": "completed"
    },
    "tags": []
   },
   "source": [
    "Generate predictions using the normalized feature linear regression model. \n",
    "\n",
    "To make sure these predictions are reasonable, view the first 5"
   ]
  },
  {
   "cell_type": "code",
   "execution_count": 31,
   "id": "5e84a7f2",
   "metadata": {
    "execution": {
     "iopub.execute_input": "2023-06-20T20:27:34.376604Z",
     "iopub.status.busy": "2023-06-20T20:27:34.376296Z",
     "iopub.status.idle": "2023-06-20T20:27:34.385031Z",
     "shell.execute_reply": "2023-06-20T20:27:34.383934Z"
    },
    "papermill": {
     "duration": 0.026327,
     "end_time": "2023-06-20T20:27:34.386999",
     "exception": false,
     "start_time": "2023-06-20T20:27:34.360672",
     "status": "completed"
    },
    "tags": []
   },
   "outputs": [
    {
     "name": "stdout",
     "output_type": "stream",
     "text": [
      "Test Predictions:\n",
      " [ 7.79406305  7.80866392 10.46489791  9.52119975  7.6123166 ]\n"
     ]
    }
   ],
   "source": [
    "test_predictions = clf_allNormalized.predict(df_test)\n",
    "test_predictions = revert_normalize(test_predictions, mean_age_val, std_age_val)\n",
    "print('Test Predictions:\\n',test_predictions[:5])"
   ]
  },
  {
   "cell_type": "markdown",
   "id": "08e03aa8",
   "metadata": {
    "papermill": {
     "duration": 0.017793,
     "end_time": "2023-06-20T20:27:34.422967",
     "exception": false,
     "start_time": "2023-06-20T20:27:34.405174",
     "status": "completed"
    },
    "tags": []
   },
   "source": [
    "Put the predictions into a pandas dataframe with the index being the `'id'` column in the original file"
   ]
  },
  {
   "cell_type": "code",
   "execution_count": 32,
   "id": "b11e5495",
   "metadata": {
    "execution": {
     "iopub.execute_input": "2023-06-20T20:27:34.460957Z",
     "iopub.status.busy": "2023-06-20T20:27:34.460555Z",
     "iopub.status.idle": "2023-06-20T20:27:34.469922Z",
     "shell.execute_reply": "2023-06-20T20:27:34.469038Z"
    },
    "papermill": {
     "duration": 0.030544,
     "end_time": "2023-06-20T20:27:34.471664",
     "exception": false,
     "start_time": "2023-06-20T20:27:34.441120",
     "status": "completed"
    },
    "tags": []
   },
   "outputs": [
    {
     "data": {
      "text/html": [
       "<div>\n",
       "<style scoped>\n",
       "    .dataframe tbody tr th:only-of-type {\n",
       "        vertical-align: middle;\n",
       "    }\n",
       "\n",
       "    .dataframe tbody tr th {\n",
       "        vertical-align: top;\n",
       "    }\n",
       "\n",
       "    .dataframe thead th {\n",
       "        text-align: right;\n",
       "    }\n",
       "</style>\n",
       "<table border=\"1\" class=\"dataframe\">\n",
       "  <thead>\n",
       "    <tr style=\"text-align: right;\">\n",
       "      <th></th>\n",
       "      <th>Age</th>\n",
       "    </tr>\n",
       "    <tr>\n",
       "      <th>id</th>\n",
       "      <th></th>\n",
       "    </tr>\n",
       "  </thead>\n",
       "  <tbody>\n",
       "    <tr>\n",
       "      <th>74051</th>\n",
       "      <td>7.794063</td>\n",
       "    </tr>\n",
       "    <tr>\n",
       "      <th>74052</th>\n",
       "      <td>7.808664</td>\n",
       "    </tr>\n",
       "    <tr>\n",
       "      <th>74053</th>\n",
       "      <td>10.464898</td>\n",
       "    </tr>\n",
       "    <tr>\n",
       "      <th>74054</th>\n",
       "      <td>9.521200</td>\n",
       "    </tr>\n",
       "    <tr>\n",
       "      <th>74055</th>\n",
       "      <td>7.612317</td>\n",
       "    </tr>\n",
       "  </tbody>\n",
       "</table>\n",
       "</div>"
      ],
      "text/plain": [
       "             Age\n",
       "id              \n",
       "74051   7.794063\n",
       "74052   7.808664\n",
       "74053  10.464898\n",
       "74054   9.521200\n",
       "74055   7.612317"
      ]
     },
     "execution_count": 32,
     "metadata": {},
     "output_type": "execute_result"
    }
   ],
   "source": [
    "submission3 = pd.DataFrame(data={'Age':test_predictions}, index=df_test.index)\n",
    "\n",
    "submission3.head()"
   ]
  },
  {
   "cell_type": "markdown",
   "id": "34aff841",
   "metadata": {
    "papermill": {
     "duration": 0.015957,
     "end_time": "2023-06-20T20:27:34.505681",
     "exception": false,
     "start_time": "2023-06-20T20:27:34.489724",
     "status": "completed"
    },
    "tags": []
   },
   "source": [
    "Create a `.csv` file with the resulting dataframe. This is the file that will be submitted to the competition"
   ]
  },
  {
   "cell_type": "code",
   "execution_count": 33,
   "id": "eeb43778",
   "metadata": {
    "execution": {
     "iopub.execute_input": "2023-06-20T20:27:34.536113Z",
     "iopub.status.busy": "2023-06-20T20:27:34.535748Z",
     "iopub.status.idle": "2023-06-20T20:27:34.628559Z",
     "shell.execute_reply": "2023-06-20T20:27:34.627415Z"
    },
    "papermill": {
     "duration": 0.110752,
     "end_time": "2023-06-20T20:27:34.630873",
     "exception": false,
     "start_time": "2023-06-20T20:27:34.520121",
     "status": "completed"
    },
    "tags": []
   },
   "outputs": [],
   "source": [
    "submission3.to_csv('Submission3.csv')"
   ]
  },
  {
   "cell_type": "markdown",
   "id": "5edd1fba",
   "metadata": {
    "papermill": {
     "duration": 0.014133,
     "end_time": "2023-06-20T20:27:34.659553",
     "exception": false,
     "start_time": "2023-06-20T20:27:34.645420",
     "status": "completed"
    },
    "tags": []
   },
   "source": [
    "#### Result\n",
    "\n",
    "The MAE for this set of predictions is 1.48523"
   ]
  },
  {
   "cell_type": "markdown",
   "id": "88d5809a",
   "metadata": {
    "papermill": {
     "duration": 0.014371,
     "end_time": "2023-06-20T20:27:34.688522",
     "exception": false,
     "start_time": "2023-06-20T20:27:34.674151",
     "status": "completed"
    },
    "tags": []
   },
   "source": [
    "### Normalized all data - validation age\n",
    "\n",
    "This submission uses the result of normalizing all data. To convert the predictions to reasonable values, the mean and std from the validation data was used to undo the normalization."
   ]
  },
  {
   "cell_type": "markdown",
   "id": "e5064729",
   "metadata": {
    "papermill": {
     "duration": 0.01462,
     "end_time": "2023-06-20T20:27:34.717760",
     "exception": false,
     "start_time": "2023-06-20T20:27:34.703140",
     "status": "completed"
    },
    "tags": []
   },
   "source": [
    "Generate predictions using the normalized feature linear regression model. \n",
    "\n",
    "To make sure these predictions are reasonable, view the first 5"
   ]
  },
  {
   "cell_type": "code",
   "execution_count": 34,
   "id": "ce09fee9",
   "metadata": {
    "execution": {
     "iopub.execute_input": "2023-06-20T20:27:34.749333Z",
     "iopub.status.busy": "2023-06-20T20:27:34.748763Z",
     "iopub.status.idle": "2023-06-20T20:27:34.757764Z",
     "shell.execute_reply": "2023-06-20T20:27:34.756948Z"
    },
    "papermill": {
     "duration": 0.027719,
     "end_time": "2023-06-20T20:27:34.760161",
     "exception": false,
     "start_time": "2023-06-20T20:27:34.732442",
     "status": "completed"
    },
    "tags": []
   },
   "outputs": [
    {
     "name": "stdout",
     "output_type": "stream",
     "text": [
      "Test Predictions:\n",
      " [ 7.79406305  7.80866392 10.46489791  9.52119975  7.6123166 ]\n"
     ]
    }
   ],
   "source": [
    "test_predictions = clf_allNormalized.predict(df_test)\n",
    "test_predictions = revert_normalize(test_predictions, mean_age_val, std_age_val)\n",
    "print('Test Predictions:\\n',test_predictions[:5])"
   ]
  },
  {
   "cell_type": "markdown",
   "id": "d4cd7804",
   "metadata": {
    "papermill": {
     "duration": 0.017991,
     "end_time": "2023-06-20T20:27:34.797314",
     "exception": false,
     "start_time": "2023-06-20T20:27:34.779323",
     "status": "completed"
    },
    "tags": []
   },
   "source": [
    "Put the predictions into a pandas dataframe with the index being the `'id'` column in the original file"
   ]
  },
  {
   "cell_type": "code",
   "execution_count": 35,
   "id": "ce6b76b0",
   "metadata": {
    "execution": {
     "iopub.execute_input": "2023-06-20T20:27:34.835697Z",
     "iopub.status.busy": "2023-06-20T20:27:34.835156Z",
     "iopub.status.idle": "2023-06-20T20:27:34.849982Z",
     "shell.execute_reply": "2023-06-20T20:27:34.848460Z"
    },
    "papermill": {
     "duration": 0.039178,
     "end_time": "2023-06-20T20:27:34.854880",
     "exception": false,
     "start_time": "2023-06-20T20:27:34.815702",
     "status": "completed"
    },
    "tags": []
   },
   "outputs": [
    {
     "data": {
      "text/html": [
       "<div>\n",
       "<style scoped>\n",
       "    .dataframe tbody tr th:only-of-type {\n",
       "        vertical-align: middle;\n",
       "    }\n",
       "\n",
       "    .dataframe tbody tr th {\n",
       "        vertical-align: top;\n",
       "    }\n",
       "\n",
       "    .dataframe thead th {\n",
       "        text-align: right;\n",
       "    }\n",
       "</style>\n",
       "<table border=\"1\" class=\"dataframe\">\n",
       "  <thead>\n",
       "    <tr style=\"text-align: right;\">\n",
       "      <th></th>\n",
       "      <th>Age</th>\n",
       "    </tr>\n",
       "    <tr>\n",
       "      <th>id</th>\n",
       "      <th></th>\n",
       "    </tr>\n",
       "  </thead>\n",
       "  <tbody>\n",
       "    <tr>\n",
       "      <th>74051</th>\n",
       "      <td>7.794063</td>\n",
       "    </tr>\n",
       "    <tr>\n",
       "      <th>74052</th>\n",
       "      <td>7.808664</td>\n",
       "    </tr>\n",
       "    <tr>\n",
       "      <th>74053</th>\n",
       "      <td>10.464898</td>\n",
       "    </tr>\n",
       "    <tr>\n",
       "      <th>74054</th>\n",
       "      <td>9.521200</td>\n",
       "    </tr>\n",
       "    <tr>\n",
       "      <th>74055</th>\n",
       "      <td>7.612317</td>\n",
       "    </tr>\n",
       "  </tbody>\n",
       "</table>\n",
       "</div>"
      ],
      "text/plain": [
       "             Age\n",
       "id              \n",
       "74051   7.794063\n",
       "74052   7.808664\n",
       "74053  10.464898\n",
       "74054   9.521200\n",
       "74055   7.612317"
      ]
     },
     "execution_count": 35,
     "metadata": {},
     "output_type": "execute_result"
    }
   ],
   "source": [
    "submission4 = pd.DataFrame(data={'Age':test_predictions}, index=df_test.index)\n",
    "\n",
    "submission4.head()"
   ]
  },
  {
   "cell_type": "markdown",
   "id": "5f4d75e7",
   "metadata": {
    "papermill": {
     "duration": 0.015463,
     "end_time": "2023-06-20T20:27:34.889434",
     "exception": false,
     "start_time": "2023-06-20T20:27:34.873971",
     "status": "completed"
    },
    "tags": []
   },
   "source": [
    "Create a `.csv` file with the resulting dataframe. This is the file that will be submitted to the competition"
   ]
  },
  {
   "cell_type": "code",
   "execution_count": 36,
   "id": "d3615750",
   "metadata": {
    "execution": {
     "iopub.execute_input": "2023-06-20T20:27:34.919805Z",
     "iopub.status.busy": "2023-06-20T20:27:34.919505Z",
     "iopub.status.idle": "2023-06-20T20:27:35.011969Z",
     "shell.execute_reply": "2023-06-20T20:27:35.011192Z"
    },
    "papermill": {
     "duration": 0.110214,
     "end_time": "2023-06-20T20:27:35.014224",
     "exception": false,
     "start_time": "2023-06-20T20:27:34.904010",
     "status": "completed"
    },
    "tags": []
   },
   "outputs": [],
   "source": [
    "submission4.to_csv('Submission4.csv')"
   ]
  },
  {
   "cell_type": "markdown",
   "id": "31d3016f",
   "metadata": {
    "papermill": {
     "duration": 0.014091,
     "end_time": "2023-06-20T20:27:35.042763",
     "exception": false,
     "start_time": "2023-06-20T20:27:35.028672",
     "status": "completed"
    },
    "tags": []
   },
   "source": [
    "#### Result\n",
    "\n",
    "The MAE for this set of predictions is 1.48513"
   ]
  },
  {
   "cell_type": "markdown",
   "id": "f0225d63",
   "metadata": {
    "papermill": {
     "duration": 0.014299,
     "end_time": "2023-06-20T20:27:35.071524",
     "exception": false,
     "start_time": "2023-06-20T20:27:35.057225",
     "status": "completed"
    },
    "tags": []
   },
   "source": [
    "## Results\n",
    "\n",
    "The results from the submissions are very similar to the simulated results.\n",
    "\n",
    "The best normalization method was to normalize all data and use the validataion mean and std for age to revert the predictions.\n",
    "\n",
    "The best MAE was **1.48513**"
   ]
  }
 ],
 "metadata": {
  "kernelspec": {
   "display_name": "Python 3",
   "language": "python",
   "name": "python3"
  },
  "language_info": {
   "codemirror_mode": {
    "name": "ipython",
    "version": 3
   },
   "file_extension": ".py",
   "mimetype": "text/x-python",
   "name": "python",
   "nbconvert_exporter": "python",
   "pygments_lexer": "ipython3",
   "version": "3.10.10"
  },
  "papermill": {
   "default_parameters": {},
   "duration": 17.648131,
   "end_time": "2023-06-20T20:27:36.008513",
   "environment_variables": {},
   "exception": null,
   "input_path": "__notebook__.ipynb",
   "output_path": "__notebook__.ipynb",
   "parameters": {},
   "start_time": "2023-06-20T20:27:18.360382",
   "version": "2.4.0"
  }
 },
 "nbformat": 4,
 "nbformat_minor": 5
}
